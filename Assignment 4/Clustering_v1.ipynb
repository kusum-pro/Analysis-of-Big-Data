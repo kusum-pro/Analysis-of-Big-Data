{
 "cells": [
  {
   "cell_type": "code",
   "execution_count": 5,
   "id": "e9d009d7",
   "metadata": {},
   "outputs": [],
   "source": [
    "from pyspark.sql import SparkSession"
   ]
  },
  {
   "cell_type": "code",
   "execution_count": 6,
   "id": "51c0c73a",
   "metadata": {},
   "outputs": [],
   "source": [
    "spark = SparkSession.builder.appName('Read CSV File into DataFrame').getOrCreate()"
   ]
  },
  {
   "cell_type": "code",
   "execution_count": 7,
   "id": "6bba115d",
   "metadata": {},
   "outputs": [],
   "source": [
    "data=spark.read.csv(r\"C:\\Users\\16478\\Desktop\\BigData\\Lab4\\Live.csv\", sep=',',inferSchema=True, header=True)"
   ]
  },
  {
   "cell_type": "code",
   "execution_count": 8,
   "id": "32347e74",
   "metadata": {},
   "outputs": [
    {
     "name": "stdout",
     "output_type": "stream",
     "text": [
      "+--------------------+-----------+----------------+-------------+------------+----------+---------+---------+--------+---------+--------+----------+-------+-------+-------+-------+\n",
      "|           status_id|status_type|status_published|num_reactions|num_comments|num_shares|num_likes|num_loves|num_wows|num_hahas|num_sads|num_angrys|Column1|Column2|Column3|Column4|\n",
      "+--------------------+-----------+----------------+-------------+------------+----------+---------+---------+--------+---------+--------+----------+-------+-------+-------+-------+\n",
      "|246675545449582_1...|      video|  4/22/2018 6:00|          529|         512|       262|      432|       92|       3|        1|       1|         0|   null|   null|   null|   null|\n",
      "|246675545449582_1...|      photo| 4/21/2018 22:45|          150|           0|         0|      150|        0|       0|        0|       0|         0|   null|   null|   null|   null|\n",
      "|246675545449582_1...|      video|  4/21/2018 6:17|          227|         236|        57|      204|       21|       1|        1|       0|         0|   null|   null|   null|   null|\n",
      "|246675545449582_1...|      photo|  4/21/2018 2:29|          111|           0|         0|      111|        0|       0|        0|       0|         0|   null|   null|   null|   null|\n",
      "|246675545449582_1...|      photo|  4/18/2018 3:22|          213|           0|         0|      204|        9|       0|        0|       0|         0|   null|   null|   null|   null|\n",
      "+--------------------+-----------+----------------+-------------+------------+----------+---------+---------+--------+---------+--------+----------+-------+-------+-------+-------+\n",
      "only showing top 5 rows\n",
      "\n"
     ]
    }
   ],
   "source": [
    "data.show(5)"
   ]
  },
  {
   "cell_type": "code",
   "execution_count": 9,
   "id": "6bdb1968",
   "metadata": {},
   "outputs": [
    {
     "name": "stdout",
     "output_type": "stream",
     "text": [
      "root\n",
      " |-- status_id: string (nullable = true)\n",
      " |-- status_type: string (nullable = true)\n",
      " |-- status_published: string (nullable = true)\n",
      " |-- num_reactions: integer (nullable = true)\n",
      " |-- num_comments: integer (nullable = true)\n",
      " |-- num_shares: integer (nullable = true)\n",
      " |-- num_likes: integer (nullable = true)\n",
      " |-- num_loves: integer (nullable = true)\n",
      " |-- num_wows: integer (nullable = true)\n",
      " |-- num_hahas: integer (nullable = true)\n",
      " |-- num_sads: integer (nullable = true)\n",
      " |-- num_angrys: integer (nullable = true)\n",
      " |-- Column1: string (nullable = true)\n",
      " |-- Column2: string (nullable = true)\n",
      " |-- Column3: string (nullable = true)\n",
      " |-- Column4: string (nullable = true)\n",
      "\n"
     ]
    }
   ],
   "source": [
    "data.printSchema()"
   ]
  },
  {
   "cell_type": "code",
   "execution_count": 10,
   "id": "42fa70a7",
   "metadata": {},
   "outputs": [],
   "source": [
    "#removing NA Values"
   ]
  },
  {
   "cell_type": "code",
   "execution_count": 11,
   "id": "9e2e9ea8",
   "metadata": {},
   "outputs": [],
   "source": [
    "data = data.drop('Column1','Column2','Column3','Column4')"
   ]
  },
  {
   "cell_type": "code",
   "execution_count": 12,
   "id": "0941596e",
   "metadata": {},
   "outputs": [
    {
     "data": {
      "text/plain": [
       "DataFrame[status_id: string, status_type: string, status_published: string, num_reactions: int, num_comments: int, num_shares: int, num_likes: int, num_loves: int, num_wows: int, num_hahas: int, num_sads: int, num_angrys: int]"
      ]
     },
     "execution_count": 12,
     "metadata": {},
     "output_type": "execute_result"
    }
   ],
   "source": [
    "data"
   ]
  },
  {
   "cell_type": "code",
   "execution_count": 13,
   "id": "6dc8cfc8",
   "metadata": {},
   "outputs": [],
   "source": [
    "#Removing duplicate rows"
   ]
  },
  {
   "cell_type": "code",
   "execution_count": 14,
   "id": "61d53568",
   "metadata": {},
   "outputs": [
    {
     "name": "stdout",
     "output_type": "stream",
     "text": [
      "+--------------------+-----------+----------------+-------------+------------+----------+---------+---------+--------+---------+--------+----------+\n",
      "|           status_id|status_type|status_published|num_reactions|num_comments|num_shares|num_likes|num_loves|num_wows|num_hahas|num_sads|num_angrys|\n",
      "+--------------------+-----------+----------------+-------------+------------+----------+---------+---------+--------+---------+--------+----------+\n",
      "|246675545449582_1...|      video|   8/8/2017 5:13|          571|         888|       107|      459|      107|       1|        1|       1|         2|\n",
      "|246675545449582_1...|      photo|  3/11/2017 8:04|          515|          10|         0|      505|        9|       0|        1|       0|         0|\n",
      "|246675545449582_1...|      video| 2/10/2017 22:58|           88|           1|         0|       87|        1|       0|        0|       0|         0|\n",
      "|246675545449582_1...|      photo|   1/6/2017 5:10|          139|          14|         0|      138|        1|       0|        0|       0|         0|\n",
      "|246675545449582_1...|      photo| 10/10/2016 5:08|          124|           2|         0|      119|        3|       2|        0|       0|         0|\n",
      "|246675545449582_1...|      photo| 8/21/2016 22:30|          441|          31|         2|      423|       13|       2|        3|       0|         0|\n",
      "|246675545449582_9...|      photo|  7/8/2016 10:51|           54|           2|         4|       54|        0|       0|        0|       0|         0|\n",
      "|246675545449582_8...|      photo|  2/7/2016 10:36|          151|           0|         0|      151|        0|       0|        0|       0|         0|\n",
      "|246675545449582_8...|      photo| 9/20/2015 22:50|         1188|          14|         1|     1188|        0|       0|        0|       0|         0|\n",
      "|246675545449582_6...|      photo|   1/7/2015 2:03|          366|          28|         5|      366|        0|       0|        0|       0|         0|\n",
      "|246675545449582_6...|      photo|  1/2/2015 23:16|         1424|           6|         0|     1424|        0|       0|        0|       0|         0|\n",
      "|246675545449582_4...|      photo|  9/25/2013 3:29|           17|           0|         1|       17|        0|       0|        0|       0|         0|\n",
      "|246675545449582_2...|      photo| 11/4/2012 10:50|           11|           6|         0|       11|        0|       0|        0|       0|         0|\n",
      "|134115277150304_2...|      photo|  4/29/2018 9:08|           64|           2|         0|       62|        0|       2|        0|       0|         0|\n",
      "|134115277150304_2...|      photo|  4/29/2018 6:58|            5|           3|         0|        5|        0|       0|        0|       0|         0|\n",
      "|134115277150304_2...|      photo|   1/6/2018 7:46|           10|           3|         0|       10|        0|       0|        0|       0|         0|\n",
      "|134115277150304_1...|      photo| 11/26/2017 2:12|           90|          26|         1|       86|        2|       2|        0|       0|         0|\n",
      "|848451358648417_8...|      video| 12/18/2017 7:00|            7|           0|         0|        7|        0|       0|        0|       0|         0|\n",
      "|848451358648417_8...|      video| 11/18/2017 8:26|            8|           0|         0|        8|        0|       0|        0|       0|         0|\n",
      "|848451358648417_8...|      video|  11/8/2017 6:31|            5|           0|         0|        5|        0|       0|        0|       0|         0|\n",
      "+--------------------+-----------+----------------+-------------+------------+----------+---------+---------+--------+---------+--------+----------+\n",
      "only showing top 20 rows\n",
      "\n"
     ]
    }
   ],
   "source": [
    "data=data.dropDuplicates()\n",
    "data.show()"
   ]
  },
  {
   "cell_type": "markdown",
   "id": "05f365d7",
   "metadata": {},
   "source": [
    "drop variable columns as it will be not used for clustering"
   ]
  },
  {
   "cell_type": "code",
   "execution_count": 15,
   "id": "74964168",
   "metadata": {},
   "outputs": [],
   "source": [
    "data = data.drop('status_id','status_published')"
   ]
  },
  {
   "cell_type": "code",
   "execution_count": 16,
   "id": "679d8cf1",
   "metadata": {},
   "outputs": [
    {
     "name": "stdout",
     "output_type": "stream",
     "text": [
      "+-----------+-------------+------------+----------+---------+---------+--------+---------+--------+----------+\n",
      "|status_type|num_reactions|num_comments|num_shares|num_likes|num_loves|num_wows|num_hahas|num_sads|num_angrys|\n",
      "+-----------+-------------+------------+----------+---------+---------+--------+---------+--------+----------+\n",
      "|      video|          571|         888|       107|      459|      107|       1|        1|       1|         2|\n",
      "+-----------+-------------+------------+----------+---------+---------+--------+---------+--------+----------+\n",
      "only showing top 1 row\n",
      "\n"
     ]
    }
   ],
   "source": [
    "data.show(1)"
   ]
  },
  {
   "cell_type": "code",
   "execution_count": 17,
   "id": "aa811b19",
   "metadata": {},
   "outputs": [],
   "source": [
    "feature_col=['num_reactions','num_comments','num_shares','num_likes','num_loves','num_wows','num_hahas','num_sads','num_angrys','y_target']"
   ]
  },
  {
   "cell_type": "code",
   "execution_count": 18,
   "id": "cb980227",
   "metadata": {},
   "outputs": [],
   "source": [
    "from pyspark.ml import Pipeline\n",
    "from pyspark.ml.clustering import GaussianMixture\n",
    "from pyspark.ml.clustering import KMeans\n",
    "from pyspark.ml.feature import StringIndexer\n",
    "from pyspark.ml.feature import VectorAssembler\n",
    "from pyspark.ml.feature import StandardScaler\n",
    "from pyspark.ml.evaluation import ClusteringEvaluator\n",
    "from pyspark.ml.evaluation import MulticlassClassificationEvaluator\n",
    "from pyspark.sql.functions import col\n"
   ]
  },
  {
   "cell_type": "code",
   "execution_count": 19,
   "id": "6aad9f4c",
   "metadata": {},
   "outputs": [],
   "source": [
    "indexer = StringIndexer(inputCol='status_type', outputCol='y_target')\n",
    "i_model=indexer.fit(data)\n",
    "i_data=i_model.transform(data)"
   ]
  },
  {
   "cell_type": "code",
   "execution_count": 20,
   "id": "29705149",
   "metadata": {},
   "outputs": [
    {
     "name": "stdout",
     "output_type": "stream",
     "text": [
      "+-----------+-------------+------------+----------+---------+---------+--------+---------+--------+----------+--------+\n",
      "|status_type|num_reactions|num_comments|num_shares|num_likes|num_loves|num_wows|num_hahas|num_sads|num_angrys|y_target|\n",
      "+-----------+-------------+------------+----------+---------+---------+--------+---------+--------+----------+--------+\n",
      "|      video|          571|         888|       107|      459|      107|       1|        1|       1|         2|     1.0|\n",
      "+-----------+-------------+------------+----------+---------+---------+--------+---------+--------+----------+--------+\n",
      "only showing top 1 row\n",
      "\n"
     ]
    }
   ],
   "source": [
    "i_data.show(1)"
   ]
  },
  {
   "cell_type": "code",
   "execution_count": 21,
   "id": "2f7bea9b",
   "metadata": {},
   "outputs": [],
   "source": [
    "assemble=VectorAssembler(inputCols= feature_col, outputCol='features')\n",
    "#a_data=assemble.transform(i_data)"
   ]
  },
  {
   "cell_type": "code",
   "execution_count": 22,
   "id": "1cbd9102",
   "metadata": {},
   "outputs": [],
   "source": [
    "scale=StandardScaler(inputCol='features',outputCol='scaled_features',withStd=True, withMean=True)\n",
    "#s_model=scale.fit(a_data)\n",
    "#s_data=s_model.transform(a_data)\n",
    "#s_data.show(1)"
   ]
  },
  {
   "cell_type": "code",
   "execution_count": 23,
   "id": "d27cf7d1",
   "metadata": {},
   "outputs": [
    {
     "name": "stdout",
     "output_type": "stream",
     "text": [
      "******************************\n",
      "Silhouette score for k=2: 0.956341\n",
      "wssse score for k=2: 4839823206.131467\n",
      "Accuracy for k=2: 62.623232\n",
      "******************************\n",
      "******************************\n",
      "Silhouette score for k=3: 0.905623\n",
      "wssse score for k=3: 2692041220.507795\n",
      "Accuracy for k=3: 60.708673\n",
      "******************************\n",
      "******************************\n",
      "Silhouette score for k=4: 0.911592\n",
      "wssse score for k=4: 2079119591.550163\n",
      "Accuracy for k=4: 60.865838\n",
      "******************************\n",
      "******************************\n",
      "Silhouette score for k=5: 0.889869\n",
      "wssse score for k=5: 1462768285.310793\n",
      "Accuracy for k=5: 58.836977\n",
      "******************************\n",
      "******************************\n",
      "Silhouette score for k=6: 0.878393\n",
      "wssse score for k=6: 1164758774.117053\n",
      "Accuracy for k=6: 58.794113\n",
      "******************************\n",
      "******************************\n",
      "Silhouette score for k=7: 0.815348\n",
      "wssse score for k=7: 1046269037.779072\n",
      "Accuracy for k=7: 57.779683\n",
      "******************************\n",
      "******************************\n",
      "Silhouette score for k=8: 0.878824\n",
      "wssse score for k=8: 727786318.716434\n",
      "Accuracy for k=8: 57.236748\n",
      "******************************\n",
      "******************************\n",
      "Silhouette score for k=9: 0.875152\n",
      "wssse score for k=9: 640762782.250892\n",
      "Accuracy for k=9: 57.765395\n",
      "******************************\n"
     ]
    }
   ],
   "source": [
    "silhouette_scores = []\n",
    "wssse_scores = []\n",
    "for i in range(2,10):\n",
    "    kmeans= KMeans(k=i, seed=1)\n",
    "    pipeline = Pipeline(stages=[assemble,scale,kmeans])\n",
    "    model = pipeline.fit(i_data)\n",
    "    predictions = model.transform(i_data)\n",
    "    evaluator = ClusteringEvaluator()\n",
    "    silhouette = evaluator.evaluate(predictions)\n",
    "    silhouette_scores.append(silhouette)\n",
    "    wssse = model.stages[2].summary.trainingCost\n",
    "    wssse_scores.append(wssse)\n",
    "    pred = predictions.withColumn(\"prediction\", col(\"prediction\").cast(\"double\"))\n",
    "    #evaluator = MulticlassClassificationEvaluator(predictionCol=\"prediction\", labelCol=\"y_target\", metricName=\"accuracy\")\n",
    "    #accuracy = evaluator.evaluate(pred)\n",
    "    accuracy= predictions.filter(predictions['prediction'] == predictions['y_target']).count() / (predictions.count())\n",
    "    print(\"***\"*10)\n",
    "    print(\"Silhouette score for k=%d: %f\" % (i, silhouette)) \n",
    "    print(\"wssse score for k=%d: %f\" % (i, wssse)) \n",
    "    print(\"Accuracy for k=%d: %f\" % (i, accuracy*100))\n",
    "    print(\"***\"*10)"
   ]
  },
  {
   "cell_type": "code",
   "execution_count": 142,
   "id": "a827db39",
   "metadata": {},
   "outputs": [
    {
     "data": {
      "text/plain": [
       "Text(0, 0.5, 'cost')"
      ]
     },
     "execution_count": 142,
     "metadata": {},
     "output_type": "execute_result"
    },
    {
     "data": {
      "image/png": "[encoded data removed]",
      "text/plain": [
       "<Figure size 576x432 with 1 Axes>"
      ]
     },
     "metadata": {
      "needs_background": "light"
     },
     "output_type": "display_data"
    }
   ],
   "source": [
    "#Visualizing the silhouette scores in a plot\n",
    "import matplotlib.pyplot as plt\n",
    "fig, ax = plt.subplots(1,1, figsize =(8,6))\n",
    "ax.plot(range(2,10),silhouette_scores,marker='o',color='green')\n",
    "ax.set_xlabel('cluster - k')\n",
    "ax.set_ylabel('cost')"
   ]
  },
  {
   "cell_type": "markdown",
   "id": "6238b98a",
   "metadata": {},
   "source": [
    "From the above elbow method, we can say that with k = 3 is the optimal number of clusters"
   ]
  },
  {
   "cell_type": "code",
   "execution_count": 143,
   "id": "25c32c82",
   "metadata": {},
   "outputs": [
    {
     "data": {
      "text/plain": [
       "Text(0, 0.5, 'cost')"
      ]
     },
     "execution_count": 143,
     "metadata": {},
     "output_type": "execute_result"
    },
    {
     "data": {
      "image/png": "[encoded data removed]",
      "text/plain": [
       "<Figure size 576x432 with 1 Axes>"
      ]
     },
     "metadata": {
      "needs_background": "light"
     },
     "output_type": "display_data"
    }
   ],
   "source": [
    "#Visualizing the wssse scores in a plot\n",
    "import matplotlib.pyplot as plt\n",
    "fig, ax = plt.subplots(1,1, figsize =(8,6))\n",
    "ax.plot(range(2,10),wssse_scores,marker='o',color='green')\n",
    "ax.set_xlabel('cluster - k')\n",
    "ax.set_ylabel('cost')"
   ]
  },
  {
   "cell_type": "markdown",
   "id": "47c36b9a",
   "metadata": {},
   "source": [
    "From the above elbow method, we can say that with k = 3 or 5 as the optimal number of clusters"
   ]
  },
  {
   "cell_type": "code",
   "execution_count": 100,
   "id": "d6ba2776",
   "metadata": {},
   "outputs": [],
   "source": [
    "label=[row.y_target for row in i_data.select(\"y_target\").collect()]"
   ]
  },
  {
   "cell_type": "code",
   "execution_count": 174,
   "id": "1ad1e4ad",
   "metadata": {},
   "outputs": [],
   "source": [
    "#from pyspark.ml.evaluation import MulticlassClassificationEvaluator\n",
    "#from pyspark.sql.functions import col\n",
    "\n",
    "#pred = predictions.withColumn(\"prediction\", col(\"prediction\").cast(\"double\"))\n",
    "#evaluator = MulticlassClassificationEvaluator(predictionCol=\"prediction\", labelCol=\"y_target\", metricName=\"accuracy\")\n",
    "#accuracy = evaluator.evaluate(pred)\n",
    "\n",
    "# Print the accuracy\n",
    "#print(\"Accuracy = {:.2f}%\".format(accuracy * 100))"
   ]
  },
  {
   "cell_type": "code",
   "execution_count": 24,
   "id": "d0fa1349",
   "metadata": {},
   "outputs": [
    {
     "name": "stdout",
     "output_type": "stream",
     "text": [
      "******************************\n",
      "Silhouette score for k=2: 0.861018\n",
      "wssse score for k=2: -205116.404800\n",
      "Accuracy for k=2: 30.718674\n",
      "******************************\n",
      "******************************\n",
      "Silhouette score for k=3: 0.830150\n",
      "wssse score for k=3: -196866.392619\n",
      "Accuracy for k=3: 59.165595\n",
      "******************************\n",
      "******************************\n",
      "Silhouette score for k=4: -0.408266\n",
      "wssse score for k=4: -191123.577946\n",
      "Accuracy for k=4: 3.471925\n",
      "******************************\n",
      "******************************\n",
      "Silhouette score for k=5: -0.372053\n",
      "wssse score for k=5: -186719.389573\n",
      "Accuracy for k=5: 7.343906\n",
      "******************************\n",
      "******************************\n",
      "Silhouette score for k=6: -0.341483\n",
      "wssse score for k=6: -183133.859694\n",
      "Accuracy for k=6: 26.432347\n",
      "******************************\n",
      "******************************\n",
      "Silhouette score for k=7: -0.627633\n",
      "wssse score for k=7: -180102.279532\n",
      "Accuracy for k=7: 58.051150\n",
      "******************************\n",
      "******************************\n",
      "Silhouette score for k=8: -0.281146\n",
      "wssse score for k=8: -177476.394219\n",
      "Accuracy for k=8: 26.332333\n",
      "******************************\n",
      "******************************\n",
      "Silhouette score for k=9: 0.784467\n",
      "wssse score for k=9: -175159.817225\n",
      "Accuracy for k=9: 0.371482\n",
      "******************************\n"
     ]
    }
   ],
   "source": [
    "gmm_wssse = []\n",
    "gmm_silhouette = []\n",
    "\n",
    "for k in range(2, 10):\n",
    "    gmm = GaussianMixture().setK(k).setSeed(1)\n",
    "    gmm_pipeline = Pipeline(stages=[assemble,scale,gmm])\n",
    "    model_gmm = gmm_pipeline.fit(i_data)\n",
    "    predictions_gmm = model_gmm.transform(i_data)\n",
    "    evaluator_gmm = ClusteringEvaluator()\n",
    "    gmm_silhou = evaluator_gmm.evaluate(predictions_gmm)\n",
    "    gmm_silhouette.append(gmm_silhou)\n",
    "    gmm_ws = model_gmm.stages[2].summary.logLikelihood\n",
    "    gmm_wssse.append(gmm_ws)\n",
    "    pred_gmm = predictions_gmm.withColumn(\"prediction\", col(\"prediction\").cast(\"double\"))\n",
    "    #evaluator = MulticlassClassificationEvaluator(predictionCol=\"prediction\", labelCol=\"y_target\", metricName=\"accuracy\")\n",
    "    #accuracy = evaluator.evaluate(pred_gmm)\n",
    "    accuracy= predictions_gmm.filter(predictions_gmm['prediction'] == predictions_gmm['y_target']).count() / (predictions_gmm.count())\n",
    "    print(\"***\"*10)\n",
    "    print(\"Silhouette score for k=%d: %f\" % (k, gmm_silhou)) \n",
    "    print(\"wssse score for k=%d: %f\" % (k, gmm_ws)) \n",
    "    print(\"Accuracy for k=%d: %f\" % (k, accuracy*100))\n",
    "    print(\"***\"*10)"
   ]
  },
  {
   "cell_type": "code",
   "execution_count": 152,
   "id": "b65ed65c",
   "metadata": {},
   "outputs": [
    {
     "data": {
      "text/plain": [
       "Text(0, 0.5, 'cost')"
      ]
     },
     "execution_count": 152,
     "metadata": {},
     "output_type": "execute_result"
    },
    {
     "data": {
      "image/png": "[encoded data removed]",
      "text/plain": [
       "<Figure size 576x432 with 1 Axes>"
      ]
     },
     "metadata": {
      "needs_background": "light"
     },
     "output_type": "display_data"
    }
   ],
   "source": [
    "#Visualizing the silhouette scores in a plot\n",
    "import matplotlib.pyplot as plt\n",
    "fig, ax = plt.subplots(1,1, figsize =(8,6))\n",
    "ax.plot(range(2,10),gmm_silhouette,marker='o',color='green')\n",
    "ax.set_xlabel('cluster - k')\n",
    "ax.set_ylabel('cost')"
   ]
  },
  {
   "cell_type": "markdown",
   "id": "813cf06b",
   "metadata": {},
   "source": [
    "From the above elbow method, we can say that with k = 4 as the optimal number of clusters"
   ]
  },
  {
   "cell_type": "code",
   "execution_count": 148,
   "id": "dfb83551",
   "metadata": {},
   "outputs": [
    {
     "data": {
      "text/plain": [
       "Text(0, 0.5, 'cost')"
      ]
     },
     "execution_count": 148,
     "metadata": {},
     "output_type": "execute_result"
    },
    {
     "data": {
      "image/png": "[encoded data removed]",
      "text/plain": [
       "<Figure size 576x432 with 1 Axes>"
      ]
     },
     "metadata": {
      "needs_background": "light"
     },
     "output_type": "display_data"
    }
   ],
   "source": [
    "#Visualizing the WSSSE scores in a plot\n",
    "import matplotlib.pyplot as plt\n",
    "fig, ax = plt.subplots(1,1, figsize =(8,6))\n",
    "ax.plot(range(2,10),gmm_wssse,marker='o',color='green')\n",
    "ax.set_xlabel('cluster - k')\n",
    "ax.set_ylabel('cost')"
   ]
  },
  {
   "cell_type": "markdown",
   "id": "895d0714",
   "metadata": {},
   "source": [
    "From the above elbow method, we can say that with k = 3 as the optimal number of clusters"
   ]
  },
  {
   "cell_type": "markdown",
   "id": "445131e5",
   "metadata": {},
   "source": [
    "#Compare Clustering models\n",
    "\n",
    "For k-means clustering, the silhouette scores are higher for all values of k, which indicates better clustering quality. The wssse scores also show a decreasing trend as the number of clusters increases, indicating that the clusters are becoming more compact.\n",
    "\n",
    "For GMM clustering, the silhouette scores are lower for all values of k, indicating that the clusters are less distinct. The wssse scores are negative, which is not a good sign of clustering quality\n",
    "\n",
    "Overall, k-means clustering seems to have performed better."
   ]
  },
  {
   "cell_type": "code",
   "execution_count": 282,
   "id": "9ef93310",
   "metadata": {},
   "outputs": [],
   "source": [
    "centroid = model_gmm.stages[-1].gaussiansDF"
   ]
  },
  {
   "cell_type": "code",
   "execution_count": 28,
   "id": "c68495f7",
   "metadata": {},
   "outputs": [
    {
     "ename": "TypeError",
     "evalue": "'GaussianMixtureModel' object is not callable",
     "output_type": "error",
     "traceback": [
      "\u001b[1;31m---------------------------------------------------------------------------\u001b[0m",
      "\u001b[1;31mTypeError\u001b[0m                                 Traceback (most recent call last)",
      "Input \u001b[1;32mIn [28]\u001b[0m, in \u001b[0;36m<cell line: 1>\u001b[1;34m()\u001b[0m\n\u001b[1;32m----> 1\u001b[0m distances \u001b[38;5;241m=\u001b[39m \u001b[43mmodel_gmm\u001b[49m\u001b[38;5;241;43m.\u001b[39;49m\u001b[43mstages\u001b[49m\u001b[43m[\u001b[49m\u001b[38;5;241;43m-\u001b[39;49m\u001b[38;5;241;43m1\u001b[39;49m\u001b[43m]\u001b[49m\u001b[43m(\u001b[49m\u001b[38;5;124;43m'\u001b[39;49m\u001b[38;5;124;43mfeatures\u001b[39;49m\u001b[38;5;124;43m'\u001b[39;49m\u001b[43m)\u001b[49m\u001b[38;5;241m.\u001b[39mrdd \\\n\u001b[0;32m      2\u001b[0m     \u001b[38;5;241m.\u001b[39mmap(\u001b[38;5;28;01mlambda\u001b[39;00m x: (x[\u001b[38;5;124m'\u001b[39m\u001b[38;5;124mprediction\u001b[39m\u001b[38;5;124m'\u001b[39m], x[\u001b[38;5;124m'\u001b[39m\u001b[38;5;124mfeatures\u001b[39m\u001b[38;5;124m'\u001b[39m])) \\\n\u001b[0;32m      3\u001b[0m     \u001b[38;5;241m.\u001b[39mgroupByKey() \\\n\u001b[0;32m      4\u001b[0m     \u001b[38;5;241m.\u001b[39mflatMap(\u001b[38;5;28;01mlambda\u001b[39;00m x: [(x[\u001b[38;5;241m0\u001b[39m], (xi \u001b[38;5;241m-\u001b[39m model\u001b[38;5;241m.\u001b[39mgaussians[x[\u001b[38;5;241m0\u001b[39m]]\u001b[38;5;241m.\u001b[39mmean)\u001b[38;5;241m.\u001b[39mdot(model\u001b[38;5;241m.\u001b[39mgaussians[x[\u001b[38;5;241m0\u001b[39m]]\u001b[38;5;241m.\u001b[39minvCov)\u001b[38;5;241m.\u001b[39mdot((xi \u001b[38;5;241m-\u001b[39m model\u001b[38;5;241m.\u001b[39mgaussians[x[\u001b[38;5;241m0\u001b[39m]]\u001b[38;5;241m.\u001b[39mmean)\u001b[38;5;241m.\u001b[39mT)) \u001b[38;5;28;01mfor\u001b[39;00m xi \u001b[38;5;129;01min\u001b[39;00m x[\u001b[38;5;241m1\u001b[39m]])\n",
      "\u001b[1;31mTypeError\u001b[0m: 'GaussianMixtureModel' object is not callable"
     ]
    }
   ],
   "source": [
    "distances = model_gmm.stages[-1]('features').rdd \\\n",
    "    .map(lambda x: (x['prediction'], x['features'])) \\\n",
    "    .groupByKey() \\\n",
    "    .flatMap(lambda x: [(x[0], (xi - model.gaussians[x[0]].mean).dot(model.gaussians[x[0]].invCov).dot((xi - model.gaussians[x[0]].mean).T)) for xi in x[1]])"
   ]
  },
  {
   "cell_type": "code",
   "execution_count": null,
   "id": "4af0a81f",
   "metadata": {},
   "outputs": [],
   "source": [
    "spark.stop()"
   ]
  },
  {
   "cell_type": "code",
   "execution_count": null,
   "id": "4eedb26c",
   "metadata": {},
   "outputs": [],
   "source": []
  },
  {
   "cell_type": "code",
   "execution_count": null,
   "id": "f0afc1f0",
   "metadata": {},
   "outputs": [],
   "source": []
  },
  {
   "cell_type": "code",
   "execution_count": null,
   "id": "466addeb",
   "metadata": {},
   "outputs": [],
   "source": []
  },
  {
   "cell_type": "code",
   "execution_count": 34,
   "id": "18201788",
   "metadata": {},
   "outputs": [],
   "source": []
  },
  {
   "cell_type": "code",
   "execution_count": null,
   "id": "76d152e7",
   "metadata": {},
   "outputs": [],
   "source": []
  },
  {
   "cell_type": "code",
   "execution_count": 59,
   "id": "fd08cde7",
   "metadata": {},
   "outputs": [],
   "source": []
  },
  {
   "cell_type": "code",
   "execution_count": null,
   "id": "3ce74bc1",
   "metadata": {},
   "outputs": [],
   "source": []
  },
  {
   "cell_type": "code",
   "execution_count": 51,
   "id": "7d372798",
   "metadata": {},
   "outputs": [],
   "source": []
  },
  {
   "cell_type": "code",
   "execution_count": null,
   "id": "24d421ff",
   "metadata": {},
   "outputs": [],
   "source": []
  },
  {
   "cell_type": "code",
   "execution_count": null,
   "id": "3a0b1f4d",
   "metadata": {},
   "outputs": [],
   "source": []
  },
  {
   "cell_type": "code",
   "execution_count": null,
   "id": "c2ea9631",
   "metadata": {},
   "outputs": [],
   "source": []
  },
  {
   "cell_type": "code",
   "execution_count": null,
   "id": "f96004ee",
   "metadata": {},
   "outputs": [],
   "source": []
  },
  {
   "cell_type": "code",
   "execution_count": null,
   "id": "62cfa9e9",
   "metadata": {},
   "outputs": [],
   "source": []
  },
  {
   "cell_type": "code",
   "execution_count": null,
   "id": "42ce9752",
   "metadata": {},
   "outputs": [],
   "source": []
  },
  {
   "cell_type": "code",
   "execution_count": null,
   "id": "1c848362",
   "metadata": {},
   "outputs": [],
   "source": []
  }
 ],
 "metadata": {
  "kernelspec": {
   "display_name": "Python 3 (ipykernel)",
   "language": "python",
   "name": "python3"
  },
  "language_info": {
   "codemirror_mode": {
    "name": "ipython",
    "version": 3
   },
   "file_extension": ".py",
   "mimetype": "text/x-python",
   "name": "python",
   "nbconvert_exporter": "python",
   "pygments_lexer": "ipython3",
   "version": "3.9.12"
  }
 },
 "nbformat": 4,
 "nbformat_minor": 5
}
